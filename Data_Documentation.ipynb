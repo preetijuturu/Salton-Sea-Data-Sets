{
 "cells": [
  {
   "cell_type": "markdown",
   "id": "805a72dc",
   "metadata": {},
   "source": [
    "# DATA EXTRACTION DOCUMENTATION\n",
    "\n",
    "This notebook outlines how all of the different data sets were collected and added to the repository."
   ]
  },
  {
   "cell_type": "markdown",
   "id": "0b2351ab",
   "metadata": {},
   "source": [
    "### EPA Data Extraction\n",
    "\n",
    "The EPA has blockgroup level data available from its EPA EJ Screen data tool. Data are collected from https://gaftp.epa.gov/EJSCREEN and stored as (geopandas) parquet files. This notebook will assist with extracting data that may be streamed, downloaded or cloned via Quilt or other data portals. The EPA EJSCREEN variable descriptions are available in an MD file in the repo titled \"EPA EJSCREEN Variables.\""
   ]
  },
  {
   "cell_type": "code",
   "execution_count": 31,
   "id": "cbdc7a67",
   "metadata": {
    "tags": []
   },
   "outputs": [],
   "source": [
    "# Import software\n",
    "\n",
    "import pandas as pd\n",
    "import geopandas as gpd \n",
    "import matplotlib.pyplot as plt \n",
    "import contextily as ctx\n",
    "import numpy as np\n",
    "import quilt3\n",
    "from geopandas_view import view "
   ]
  },
  {
   "cell_type": "code",
   "execution_count": 43,
   "id": "24b890fd",
   "metadata": {
    "tags": []
   },
   "outputs": [
    {
     "name": "stderr",
     "output_type": "stream",
     "text": [
      "100%|██████████| 146M/146M [00:06<00:00, 22.1MB/s] \n"
     ]
    },
    {
     "data": {
      "text/plain": [
       "(None,)"
      ]
     },
     "execution_count": 43,
     "metadata": {},
     "output_type": "execute_result"
    }
   ],
   "source": [
    "# Retrieve and download EPA EJ Screen data from UCR CGS Quilt Bucket in parquet form\n",
    "\n",
    "b = quilt3.Bucket(\"s3://spatial-ucr\")\n",
    "b.fetch(\"epa/ejscreen/ejscreen_2020.parquet\", \"./EPA Data/ejscreen_2020.parquet\"), "
   ]
  },
  {
   "cell_type": "code",
   "execution_count": 47,
   "id": "efddf3ce",
   "metadata": {},
   "outputs": [],
   "source": [
    "# Convert into CSV and add to Repository\n",
    "\n",
    "ej = pd.read_parquet(\"./EPAData/ejscreen_2020.parquet\")\n",
    "\n",
    "ej.to_csv(\"./EPAData/ejscreen_2020.csv\")"
   ]
  },
  {
   "cell_type": "markdown",
   "id": "adcd5f93",
   "metadata": {},
   "source": [
    "### Census Data Extraction\n",
    "\n",
    "There are many Census data sets available; this notebook will assist with extracting data that may be streamed, downloaded or cloned via Quilt or other data portals. For this study's purposes, perhaps using the ACS 5-Year Survey Data could be a more up-to-date collection of data"
   ]
  },
  {
   "cell_type": "code",
   "execution_count": 49,
   "id": "6a29ef85",
   "metadata": {},
   "outputs": [
    {
     "name": "stderr",
     "output_type": "stream",
     "text": [
      "100%|██████████| 575M/575M [00:06<00:00, 87.4MB/s]  \n",
      "100%|██████████| 921M/921M [00:09<00:00, 101MB/s]   \n"
     ]
    },
    {
     "data": {
      "text/plain": [
       "(None,)"
      ]
     },
     "execution_count": 49,
     "metadata": {},
     "output_type": "execute_result"
    }
   ],
   "source": [
    "# Retrieve ACS Tract and Blockgroup data from UCR CGS Quilt Bucket\n",
    "\n",
    "b = quilt3.Bucket(\"s3://spatial-ucr\")\n",
    "\n",
    "b.fetch(\"/census/acs/acs_2018_tract.parquet\", \"./CensusData/acs_2018_tract.parquet\"), \n",
    "b.fetch(\"/census/acs/acs_2018_bg.parquet\", \"./CensusData/acs_2018_bg.parquet\"),"
   ]
  },
  {
   "cell_type": "code",
   "execution_count": 50,
   "id": "20d298e5",
   "metadata": {},
   "outputs": [],
   "source": [
    "# Convert into CSV's and add to Repository\n",
    "\n",
    "acs_tract = pd.read_parquet(\"./CensusData/acs_2018_tract.parquet\")\n",
    "acs_tract.to_csv(\"./CensusData/acs_2018_tract.csv\")\n",
    "\n",
    "acs_bg = pd.read_parquet(\"./CensusData/acs_2018_bg.parquet\")\n",
    "acs_bg.to_csv(\"./CensusData/acs_2018_bg.csv\")"
   ]
  },
  {
   "cell_type": "code",
   "execution_count": 52,
   "id": "30c4d3e7",
   "metadata": {},
   "outputs": [
    {
     "name": "stdout",
     "output_type": "stream",
     "text": [
      "n_persons_under_18\n",
      "n_persons_over_60\n",
      "n_persons_over_75\n",
      "n_persons_over_15\n",
      "n_married\n",
      "n_widowed_divorced\n",
      "n_total_families\n",
      "n_female_headed_families\n",
      "n_nonhisp_white_persons\n",
      "n_nonhisp_black_persons\n",
      "n_hispanic_persons\n",
      "n_native_persons\n",
      "n_hawaiian_persons\n",
      "n_asian_indian_persons\n",
      "n_asian_persons\n",
      "n_veterans\n",
      "median_household_income\n",
      "n_total_households\n",
      "per_capita_income\n",
      "n_poverty_families_children\n",
      "n_total_pop\n",
      "p_persons_under_18\n",
      "p_persons_over_60\n",
      "p_persons_over_75\n",
      "p_married\n",
      "p_widowed_divorced\n",
      "p_female_headed_families\n",
      "p_nonhisp_white_persons\n",
      "p_nonhisp_black_persons\n",
      "p_hispanic_persons\n",
      "p_native_persons\n",
      "p_asian_persons\n",
      "p_hawaiian_persons\n",
      "p_asian_indian_persons\n",
      "p_veterans\n",
      "geometry\n"
     ]
    }
   ],
   "source": [
    "# Iterate the ACS columns to list the variable names; these list the demographic characteristics \n",
    "for col in acs_bg.columns:\n",
    "    print(col)"
   ]
  },
  {
   "cell_type": "code",
   "execution_count": null,
   "id": "f98ca53f",
   "metadata": {},
   "outputs": [],
   "source": []
  }
 ],
 "metadata": {
  "kernelspec": {
   "display_name": "Python 3",
   "language": "python",
   "name": "python3"
  },
  "language_info": {
   "codemirror_mode": {
    "name": "ipython",
    "version": 3
   },
   "file_extension": ".py",
   "mimetype": "text/x-python",
   "name": "python",
   "nbconvert_exporter": "python",
   "pygments_lexer": "ipython3",
   "version": "3.7.3"
  }
 },
 "nbformat": 4,
 "nbformat_minor": 5
}
